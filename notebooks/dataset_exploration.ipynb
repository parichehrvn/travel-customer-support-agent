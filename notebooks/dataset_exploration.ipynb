{
 "cells": [
  {
   "cell_type": "code",
   "id": "initial_id",
   "metadata": {
    "collapsed": true,
    "ExecuteTime": {
     "end_time": "2025-09-18T07:26:42.699602Z",
     "start_time": "2025-09-18T07:26:42.288499Z"
    }
   },
   "source": [
    "import os\n",
    "import shutil\n",
    "import sqlite3\n",
    "\n",
    "import pandas as pd\n",
    "import requests"
   ],
   "outputs": [],
   "execution_count": 1
  },
  {
   "metadata": {
    "ExecuteTime": {
     "end_time": "2025-09-18T07:26:48.552849Z",
     "start_time": "2025-09-18T07:26:48.549969Z"
    }
   },
   "cell_type": "code",
   "source": [
    "db_url = \"https://storage.googleapis.com/benchmarks-artifacts/travel-db/travel2.sqlite\"\n",
    "local_file = \"../data/travel.sqlite\"\n",
    "backup_file = \"../data/travel.backup.sqlite\""
   ],
   "id": "ad23e398b9722d01",
   "outputs": [],
   "execution_count": 3
  },
  {
   "metadata": {},
   "cell_type": "code",
   "source": [
    "# Download and save dataset\n",
    "if not os.path.exists(local_file):\n",
    "    response = requests.get(db_url)\n",
    "    response.raise_for_status()\n",
    "    with open(local_file, \"wb\") as f:\n",
    "        f.write(response.content)\n",
    "    shutil.copy(local_file, backup_file)"
   ],
   "id": "fd868e6528bd97b1",
   "outputs": [],
   "execution_count": null
  },
  {
   "metadata": {
    "ExecuteTime": {
     "end_time": "2025-09-18T07:27:01.302755Z",
     "start_time": "2025-09-18T07:27:01.298902Z"
    }
   },
   "cell_type": "code",
   "source": [
    "# establish a connection to an SQLite database\n",
    "conn = sqlite3.connect(local_file)\n",
    "\n",
    "# cursor object to execute SQL commands on the database\n",
    "cursor = conn.cursor()"
   ],
   "id": "8652170a6c82d12b",
   "outputs": [],
   "execution_count": 5
  },
  {
   "metadata": {
    "ExecuteTime": {
     "end_time": "2025-09-18T07:30:12.519794Z",
     "start_time": "2025-09-18T07:30:12.514584Z"
    }
   },
   "cell_type": "code",
   "source": [
    "tables = pd.read_sql(\"SELECT name FROM sqlite_master WHERE type='table'\", conn)\n",
    "tables"
   ],
   "id": "bc25635d9bf140c2",
   "outputs": [
    {
     "data": {
      "text/plain": [
       "                    name\n",
       "0         aircrafts_data\n",
       "1          airports_data\n",
       "2        boarding_passes\n",
       "3               bookings\n",
       "4                flights\n",
       "5                  seats\n",
       "6         ticket_flights\n",
       "7                tickets\n",
       "8            car_rentals\n",
       "9                 hotels\n",
       "10  trip_recommendations"
      ],
      "text/html": [
       "<div>\n",
       "<style scoped>\n",
       "    .dataframe tbody tr th:only-of-type {\n",
       "        vertical-align: middle;\n",
       "    }\n",
       "\n",
       "    .dataframe tbody tr th {\n",
       "        vertical-align: top;\n",
       "    }\n",
       "\n",
       "    .dataframe thead th {\n",
       "        text-align: right;\n",
       "    }\n",
       "</style>\n",
       "<table border=\"1\" class=\"dataframe\">\n",
       "  <thead>\n",
       "    <tr style=\"text-align: right;\">\n",
       "      <th></th>\n",
       "      <th>name</th>\n",
       "    </tr>\n",
       "  </thead>\n",
       "  <tbody>\n",
       "    <tr>\n",
       "      <th>0</th>\n",
       "      <td>aircrafts_data</td>\n",
       "    </tr>\n",
       "    <tr>\n",
       "      <th>1</th>\n",
       "      <td>airports_data</td>\n",
       "    </tr>\n",
       "    <tr>\n",
       "      <th>2</th>\n",
       "      <td>boarding_passes</td>\n",
       "    </tr>\n",
       "    <tr>\n",
       "      <th>3</th>\n",
       "      <td>bookings</td>\n",
       "    </tr>\n",
       "    <tr>\n",
       "      <th>4</th>\n",
       "      <td>flights</td>\n",
       "    </tr>\n",
       "    <tr>\n",
       "      <th>5</th>\n",
       "      <td>seats</td>\n",
       "    </tr>\n",
       "    <tr>\n",
       "      <th>6</th>\n",
       "      <td>ticket_flights</td>\n",
       "    </tr>\n",
       "    <tr>\n",
       "      <th>7</th>\n",
       "      <td>tickets</td>\n",
       "    </tr>\n",
       "    <tr>\n",
       "      <th>8</th>\n",
       "      <td>car_rentals</td>\n",
       "    </tr>\n",
       "    <tr>\n",
       "      <th>9</th>\n",
       "      <td>hotels</td>\n",
       "    </tr>\n",
       "    <tr>\n",
       "      <th>10</th>\n",
       "      <td>trip_recommendations</td>\n",
       "    </tr>\n",
       "  </tbody>\n",
       "</table>\n",
       "</div>"
      ]
     },
     "execution_count": 15,
     "metadata": {},
     "output_type": "execute_result"
    }
   ],
   "execution_count": 15
  },
  {
   "metadata": {
    "ExecuteTime": {
     "end_time": "2025-09-18T07:30:31.968041Z",
     "start_time": "2025-09-18T07:30:31.964764Z"
    }
   },
   "cell_type": "code",
   "source": "tables = tables.name.to_list()",
   "id": "dfbcc680c9781468",
   "outputs": [],
   "execution_count": 16
  },
  {
   "metadata": {
    "ExecuteTime": {
     "end_time": "2025-09-18T07:32:47.802717Z",
     "start_time": "2025-09-18T07:32:45.766316Z"
    }
   },
   "cell_type": "code",
   "source": [
    "tdf = {}\n",
    "for table in tables:\n",
    "    tdf[table] = pd.read_sql(f\"SELECT * FROM {table}\", conn)"
   ],
   "id": "1db007ccd8394f2c",
   "outputs": [],
   "execution_count": 18
  },
  {
   "metadata": {
    "ExecuteTime": {
     "end_time": "2025-09-18T07:39:37.482339Z",
     "start_time": "2025-09-18T07:39:37.440523Z"
    }
   },
   "cell_type": "code",
   "source": [
    "# latest actual departure time in the flights table (acts as the reference point for time adjustment)\n",
    "example_time = pd.to_datetime(\n",
    "    tdf[\"flights\"][\"actual_departure\"].replace(\"\\\\N\", pd.NaT)\n",
    ").max()\n",
    "example_time"
   ],
   "id": "b8bffa17bc55b790",
   "outputs": [
    {
     "data": {
      "text/plain": [
       "Timestamp('2024-04-30 12:05:03.561731-0400', tz='UTC-04:00')"
      ]
     },
     "execution_count": 21,
     "metadata": {},
     "output_type": "execute_result"
    }
   ],
   "execution_count": 21
  },
  {
   "metadata": {
    "ExecuteTime": {
     "end_time": "2025-09-18T07:41:34.928957Z",
     "start_time": "2025-09-18T07:41:34.925378Z"
    }
   },
   "cell_type": "code",
   "source": [
    "current_time = pd.to_datetime(\"now\").tz_localize(example_time.tz)\n",
    "current_time"
   ],
   "id": "957ad9d02699154a",
   "outputs": [
    {
     "data": {
      "text/plain": [
       "Timestamp('2025-09-18 11:11:34.926655-0400', tz='UTC-04:00')"
      ]
     },
     "execution_count": 22,
     "metadata": {},
     "output_type": "execute_result"
    }
   ],
   "execution_count": 22
  },
  {
   "metadata": {
    "ExecuteTime": {
     "end_time": "2025-09-18T07:41:54.503967Z",
     "start_time": "2025-09-18T07:41:54.500633Z"
    }
   },
   "cell_type": "code",
   "source": [
    "time_diff = current_time - example_time\n",
    "time_diff"
   ],
   "id": "b5b7ad01e74ae604",
   "outputs": [
    {
     "data": {
      "text/plain": [
       "Timedelta('505 days 23:06:31.364924')"
      ]
     },
     "execution_count": 24,
     "metadata": {},
     "output_type": "execute_result"
    }
   ],
   "execution_count": 24
  },
  {
   "metadata": {
    "ExecuteTime": {
     "end_time": "2025-09-18T07:46:36.873093Z",
     "start_time": "2025-09-18T07:46:36.724861Z"
    }
   },
   "cell_type": "code",
   "source": [
    "tdf[\"bookings\"][\"book_date\"] = (\n",
    "    pd.to_datetime(tdf[\"bookings\"][\"book_date\"].replace(\"\\\\N\", pd.NaT), utc=True)\n",
    "    + time_diff\n",
    ")"
   ],
   "id": "d410e9d5cc1eab17",
   "outputs": [],
   "execution_count": 25
  },
  {
   "metadata": {
    "ExecuteTime": {
     "end_time": "2025-09-18T07:46:45.548642Z",
     "start_time": "2025-09-18T07:46:45.545814Z"
    }
   },
   "cell_type": "code",
   "source": "tdf[\"bookings\"][\"book_date\"][0]",
   "id": "a4676353a848e3",
   "outputs": [
    {
     "data": {
      "text/plain": [
       "Timestamp('2025-08-08 00:27:34.926655+0000', tz='UTC')"
      ]
     },
     "execution_count": 26,
     "metadata": {},
     "output_type": "execute_result"
    }
   ],
   "execution_count": 26
  },
  {
   "metadata": {
    "ExecuteTime": {
     "end_time": "2025-09-18T07:49:51.557542Z",
     "start_time": "2025-09-18T07:49:51.331948Z"
    }
   },
   "cell_type": "code",
   "source": [
    "datetime_columns = [\n",
    "    \"scheduled_departure\",\n",
    "    \"scheduled_arrival\",\n",
    "    \"actual_departure\",\n",
    "    \"actual_arrival\"\n",
    "]\n",
    "\n",
    "for column in datetime_columns:\n",
    "        tdf[\"flights\"][column] = (\n",
    "            pd.to_datetime(tdf[\"flights\"][column].replace(\"\\\\N\", pd.NaT), utc=True)\n",
    "            + time_diff\n",
    "        )"
   ],
   "id": "9bb9eaf7b3f85ca4",
   "outputs": [],
   "execution_count": 27
  },
  {
   "metadata": {
    "ExecuteTime": {
     "end_time": "2025-09-18T07:50:23.388760Z",
     "start_time": "2025-09-18T07:50:23.384572Z"
    }
   },
   "cell_type": "code",
   "source": "tdf[\"flights\"][\"scheduled_departure\"][0]",
   "id": "e8b23f53ee211aa9",
   "outputs": [
    {
     "data": {
      "text/plain": [
       "Timestamp('2025-10-14 07:05:34.926655+0000', tz='UTC')"
      ]
     },
     "execution_count": 28,
     "metadata": {},
     "output_type": "execute_result"
    }
   ],
   "execution_count": 28
  },
  {
   "metadata": {},
   "cell_type": "code",
   "outputs": [],
   "execution_count": null,
   "source": [
    "for table_name, df in tdf.items():\n",
    "    df.to_sql(table_name, conn, if_exists=\"replace\", index=False)"
   ],
   "id": "4f7f426ee9e15e3c"
  }
 ],
 "metadata": {
  "kernelspec": {
   "display_name": "Python 3",
   "language": "python",
   "name": "python3"
  },
  "language_info": {
   "codemirror_mode": {
    "name": "ipython",
    "version": 2
   },
   "file_extension": ".py",
   "mimetype": "text/x-python",
   "name": "python",
   "nbconvert_exporter": "python",
   "pygments_lexer": "ipython2",
   "version": "2.7.6"
  }
 },
 "nbformat": 4,
 "nbformat_minor": 5
}
