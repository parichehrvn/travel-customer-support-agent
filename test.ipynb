{
 "cells": [
  {
   "metadata": {
    "ExecuteTime": {
     "end_time": "2025-09-19T22:02:58.403267Z",
     "start_time": "2025-09-19T22:02:58.399305Z"
    }
   },
   "cell_type": "code",
   "source": [
    "from langchain_core.prompts import ChatPromptTemplate\n",
    "from datetime import datetime"
   ],
   "id": "8534cd62ff8478ac",
   "outputs": [],
   "execution_count": 2
  },
  {
   "cell_type": "code",
   "id": "initial_id",
   "metadata": {
    "collapsed": true,
    "ExecuteTime": {
     "end_time": "2025-09-19T22:03:03.446530Z",
     "start_time": "2025-09-19T22:03:03.440849Z"
    }
   },
   "source": [
    "primary_assistant_prompt = ChatPromptTemplate.from_messages(\n",
    "    [\n",
    "        (\n",
    "            \"system\",\n",
    "            \"You are a helpful customer support assistant for Swiss Airlines. \"\n",
    "            \" Use the provided tools to search for flights, company policies, and other information to assist the user's queries. \"\n",
    "            \" When searching, be persistent. Expand your query bounds if the first search returns no results. \"\n",
    "            \" If a search comes up empty, expand your search before giving up.\"\n",
    "            \"\\n\\nCurrent user:\\n<User>\\n{user_info}\\n</User>\"\n",
    "            \"\\nCurrent time: {time}.\",\n",
    "        ),\n",
    "        (\"placeholder\", \"{messages}\"),\n",
    "    ]\n",
    ").partial(time=datetime.now)"
   ],
   "outputs": [],
   "execution_count": 3
  },
  {
   "metadata": {
    "ExecuteTime": {
     "end_time": "2025-09-19T22:05:44.427168Z",
     "start_time": "2025-09-19T22:05:44.423875Z"
    }
   },
   "cell_type": "code",
   "source": [
    "state = {\n",
    "    \"messages\": [(\"ai\", \"Respond with a real output.\")],\n",
    "    \"user_info\": 1\n",
    "}"
   ],
   "id": "528075128b53ead9",
   "outputs": [],
   "execution_count": 10
  },
  {
   "metadata": {
    "ExecuteTime": {
     "end_time": "2025-09-19T22:05:47.172780Z",
     "start_time": "2025-09-19T22:05:47.166297Z"
    }
   },
   "cell_type": "code",
   "source": "primary_assistant_prompt.invoke(state)",
   "id": "2a66718647c121ce",
   "outputs": [
    {
     "data": {
      "text/plain": [
       "ChatPromptValue(messages=[SystemMessage(content=\"You are a helpful customer support assistant for Swiss Airlines.  Use the provided tools to search for flights, company policies, and other information to assist the user's queries.  When searching, be persistent. Expand your query bounds if the first search returns no results.  If a search comes up empty, expand your search before giving up.\\n\\nCurrent user:\\n<User>\\n1\\n</User>\\nCurrent time: 2025-09-20 01:35:47.167865.\", additional_kwargs={}, response_metadata={}), AIMessage(content='Respond with a real output.', additional_kwargs={}, response_metadata={})])"
      ]
     },
     "execution_count": 11,
     "metadata": {},
     "output_type": "execute_result"
    }
   ],
   "execution_count": 11
  }
 ],
 "metadata": {
  "kernelspec": {
   "display_name": "Python 3",
   "language": "python",
   "name": "python3"
  },
  "language_info": {
   "codemirror_mode": {
    "name": "ipython",
    "version": 2
   },
   "file_extension": ".py",
   "mimetype": "text/x-python",
   "name": "python",
   "nbconvert_exporter": "python",
   "pygments_lexer": "ipython2",
   "version": "2.7.6"
  }
 },
 "nbformat": 4,
 "nbformat_minor": 5
}
